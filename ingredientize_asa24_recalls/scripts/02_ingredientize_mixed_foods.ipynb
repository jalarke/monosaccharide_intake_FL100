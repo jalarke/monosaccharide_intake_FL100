{
 "cells": [
  {
   "cell_type": "code",
   "execution_count": 19,
   "id": "5738ae54",
   "metadata": {},
   "outputs": [],
   "source": [
    "# Import packages\n",
    "import pandas as pd\n",
    "import numpy as np"
   ]
  },
  {
   "cell_type": "code",
   "execution_count": 20,
   "id": "950d4ed8",
   "metadata": {},
   "outputs": [],
   "source": [
    "# Load data for foodcodes that were replaced with FNDDS 2018\n",
    "new_codes = pd.read_csv('fndds_missing_foods_replaced.csv')\n",
    "# Load ASA24 dataset\n",
    "asa24 = pd.read_csv('fl100_recalls_qcd.csv')"
   ]
  },
  {
   "cell_type": "code",
   "execution_count": 21,
   "id": "99b84940",
   "metadata": {},
   "outputs": [
    {
     "data": {
      "text/plain": [
       "332    11350000\n",
       "76     11360000\n",
       "108    11411100\n",
       "482    11411200\n",
       "83     11411200\n",
       "         ...   \n",
       "117    95201200\n",
       "330    95230010\n",
       "292    99995000\n",
       "151    99997410\n",
       "86     99997550\n",
       "Name: NewFoodCode, Length: 483, dtype: int64"
      ]
     },
     "execution_count": 21,
     "metadata": {},
     "output_type": "execute_result"
    }
   ],
   "source": [
    "new_codes['NewFoodCode'].sort_values(ascending=True)"
   ]
  },
  {
   "cell_type": "code",
   "execution_count": 22,
   "id": "5dba7cf2",
   "metadata": {},
   "outputs": [],
   "source": [
    "new_codes = new_codes[new_codes['NewFoodCode'] != 9]"
   ]
  },
  {
   "cell_type": "code",
   "execution_count": 23,
   "id": "c1bddbc4",
   "metadata": {},
   "outputs": [],
   "source": [
    "asa24 = asa24[asa24['FoodCode'] != 9]\n",
    "asa24 = asa24[asa24['Food_Description'] != ' ']"
   ]
  },
  {
   "cell_type": "code",
   "execution_count": 24,
   "id": "5a44b581",
   "metadata": {},
   "outputs": [],
   "source": [
    "asa24['FoodCode'].dropna(inplace=True)"
   ]
  },
  {
   "cell_type": "code",
   "execution_count": 25,
   "id": "e3819c17",
   "metadata": {},
   "outputs": [],
   "source": [
    "old = new_codes['FoodCode'].tolist()"
   ]
  },
  {
   "cell_type": "code",
   "execution_count": 26,
   "id": "b393ead1",
   "metadata": {},
   "outputs": [],
   "source": [
    "new = new_codes['NewFoodCode'].tolist()"
   ]
  },
  {
   "cell_type": "code",
   "execution_count": 27,
   "id": "fda0794d",
   "metadata": {},
   "outputs": [],
   "source": [
    "keep = asa24[~asa24['FoodCode'].isin(old)]"
   ]
  },
  {
   "cell_type": "code",
   "execution_count": 28,
   "id": "c5c02f34",
   "metadata": {
    "scrolled": true
   },
   "outputs": [],
   "source": [
    "match = asa24[asa24['FoodCode'].isin(old)]"
   ]
  },
  {
   "cell_type": "code",
   "execution_count": 29,
   "id": "355af2ef",
   "metadata": {
    "scrolled": false
   },
   "outputs": [
    {
     "name": "stderr",
     "output_type": "stream",
     "text": [
      "/Users/jules.larke/opt/anaconda3/lib/python3.8/site-packages/pandas/core/series.py:4509: SettingWithCopyWarning: \n",
      "A value is trying to be set on a copy of a slice from a DataFrame\n",
      "\n",
      "See the caveats in the documentation: https://pandas.pydata.org/pandas-docs/stable/user_guide/indexing.html#returning-a-view-versus-a-copy\n",
      "  return super().replace(\n"
     ]
    }
   ],
   "source": [
    "match['FoodCode'].replace(old, new, inplace=True) #SettingwithcopyWarning"
   ]
  },
  {
   "cell_type": "code",
   "execution_count": 30,
   "id": "d56d5999",
   "metadata": {
    "scrolled": true
   },
   "outputs": [],
   "source": [
    "asa24_matched = pd.concat([match, keep], axis=0)"
   ]
  },
  {
   "cell_type": "markdown",
   "id": "0f8dc832",
   "metadata": {},
   "source": [
    "### Merge ASA24 updated foodcodes with FNDDS to ingredientize"
   ]
  },
  {
   "cell_type": "code",
   "execution_count": 32,
   "id": "42e3d671",
   "metadata": {},
   "outputs": [],
   "source": [
    "#Load data\n",
    "fndds = pd.read_csv('data/fndds/fndds_2018/fndds2018.csv')\n",
    "\n",
    "#Rename column 'Food code' to 'FoodCode' for merging with ASA data\n",
    "fndds.columns=['FoodCode',\n",
    "               'fndds_description',\n",
    "               'WWEIA Category number',\n",
    "               'WWEIA Category description',\n",
    "               'Seq num',\n",
    "               'Ingredient code',\n",
    "               'Ingredient description',\n",
    "               'Ingredient weight (g)',\n",
    "               'Retention code',\n",
    "               'Moisture change (%)']"
   ]
  },
  {
   "cell_type": "code",
   "execution_count": 34,
   "id": "ee779d69",
   "metadata": {
    "scrolled": true
   },
   "outputs": [],
   "source": [
    "asa_fndds = pd.merge(asa24_matched, fndds, on='FoodCode')"
   ]
  },
  {
   "cell_type": "code",
   "execution_count": 35,
   "id": "85a74c9d",
   "metadata": {},
   "outputs": [],
   "source": [
    "asa_set = set(asa24['Food_Description'].unique())\n",
    "asa_fndds_set = set(asa_fndds['Food_Description'].unique())"
   ]
  },
  {
   "cell_type": "code",
   "execution_count": 36,
   "id": "9b095507",
   "metadata": {},
   "outputs": [
    {
     "data": {
      "text/plain": [
       "{'Oriental party mix, with peanuts, sesame sticks, chili rice crackers and fried green peas',\n",
       " 'Vegetable sticks, breaded (including corn, carrots, and green beans)'}"
      ]
     },
     "execution_count": 36,
     "metadata": {},
     "output_type": "execute_result"
    }
   ],
   "source": [
    "# 2 foods did not map to FNDDS2018\n",
    "unmapped = asa_set.difference(asa_fndds_set)\n",
    "unmapped"
   ]
  },
  {
   "cell_type": "code",
   "execution_count": 38,
   "id": "1e494a46",
   "metadata": {
    "scrolled": true
   },
   "outputs": [],
   "source": [
    "#Rearrange columns of interest\n",
    "cols_to_order = ['UserName',\n",
    " 'FoodCode',\n",
    " 'Food_Description',\n",
    " 'fndds_description',\n",
    " 'WWEIA Category number',\n",
    " 'WWEIA Category description',\n",
    " 'FoodAmt',                \n",
    " 'Seq num',\n",
    " 'Ingredient code',\n",
    " 'Ingredient description',\n",
    " 'Ingredient weight (g)']\n",
    "new_columns = cols_to_order + (asa_fndds.columns.drop(cols_to_order).tolist())\n",
    "asa_fndds = asa_fndds[new_columns]"
   ]
  },
  {
   "cell_type": "code",
   "execution_count": 23,
   "id": "00aefc22",
   "metadata": {},
   "outputs": [],
   "source": [
    "asa_fndds.to_csv('asa24_ingredients/asa_fndds_matched_120721.csv', index=None)"
   ]
  }
 ],
 "metadata": {
  "kernelspec": {
   "display_name": "Python 3",
   "language": "python",
   "name": "python3"
  },
  "language_info": {
   "codemirror_mode": {
    "name": "ipython",
    "version": 3
   },
   "file_extension": ".py",
   "mimetype": "text/x-python",
   "name": "python",
   "nbconvert_exporter": "python",
   "pygments_lexer": "ipython3",
   "version": "3.8.8"
  }
 },
 "nbformat": 4,
 "nbformat_minor": 5
}
