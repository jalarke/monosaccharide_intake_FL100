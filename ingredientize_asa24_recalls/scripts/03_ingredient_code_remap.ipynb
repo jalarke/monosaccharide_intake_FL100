{
 "cells": [
  {
   "cell_type": "markdown",
   "id": "f04d5ba5",
   "metadata": {},
   "source": [
    "## The following code is used to deconvolute ingredient codes that are represented by 8-digit food codes for proper ingredientization"
   ]
  },
  {
   "cell_type": "code",
   "execution_count": 1,
   "id": "fb411eae",
   "metadata": {},
   "outputs": [],
   "source": [
    "import pandas as pd"
   ]
  },
  {
   "cell_type": "code",
   "execution_count": 3,
   "id": "11db4fbe",
   "metadata": {},
   "outputs": [],
   "source": [
    "# Load data\n",
    "fndds = pd.read_csv('fndds2018.csv')\n",
    "asa_fndds = pd.read_csv('asa_fndds_matched_120721.csv')"
   ]
  },
  {
   "cell_type": "code",
   "execution_count": 4,
   "id": "4ae4915e",
   "metadata": {
    "scrolled": true
   },
   "outputs": [],
   "source": [
    "# Extract all ingredient codes represented as 8-digit foodcodes\n",
    "asa_fndds = asa_fndds[asa_fndds['Ingredient code']>10000000]"
   ]
  },
  {
   "cell_type": "code",
   "execution_count": 5,
   "id": "1405c430",
   "metadata": {},
   "outputs": [
    {
     "data": {
      "text/plain": [
       "(3821, 112)"
      ]
     },
     "execution_count": 5,
     "metadata": {},
     "output_type": "execute_result"
    }
   ],
   "source": [
    "asa_fndds.shape"
   ]
  },
  {
   "cell_type": "code",
   "execution_count": 6,
   "id": "e04e881d",
   "metadata": {},
   "outputs": [
    {
     "data": {
      "text/plain": [
       "381      75226111\n",
       "852      75403200\n",
       "1174     58145112\n",
       "1175     58145112\n",
       "1432     41301990\n",
       "           ...   \n",
       "34546    58104730\n",
       "34632    53452420\n",
       "34633    53452420\n",
       "34642    27347250\n",
       "34738    58100520\n",
       "Name: FoodCode, Length: 165, dtype: int64"
      ]
     },
     "execution_count": 6,
     "metadata": {},
     "output_type": "execute_result"
    }
   ],
   "source": [
    "asa_fndds = asa_fndds.drop_duplicates(subset ='Ingredient code')"
   ]
  },
  {
   "cell_type": "code",
   "execution_count": 6,
   "id": "525cc754",
   "metadata": {},
   "outputs": [],
   "source": [
    "fndds.drop(columns=['Main food description', 'WWEIA Category number', 'WWEIA Category description', 'Seq num', 'Retention code', 'Moisture change (%)'], inplace=True)"
   ]
  },
  {
   "cell_type": "code",
   "execution_count": 7,
   "id": "4662196c",
   "metadata": {},
   "outputs": [],
   "source": [
    "fndds.rename(columns={'Ingredient code':'Ingred_code'}, inplace = True)"
   ]
  },
  {
   "cell_type": "code",
   "execution_count": 8,
   "id": "e7cbaa0d",
   "metadata": {},
   "outputs": [],
   "source": [
    "fndds.rename(columns={'Food code':'Ingredient code'}, inplace = True)"
   ]
  },
  {
   "cell_type": "code",
   "execution_count": 9,
   "id": "2d3cd6be",
   "metadata": {},
   "outputs": [],
   "source": [
    "asa_recode = pd.merge(asa_fndds, fndds, on='Ingredient code')"
   ]
  },
  {
   "cell_type": "code",
   "execution_count": 10,
   "id": "568351da",
   "metadata": {},
   "outputs": [],
   "source": [
    "asa_recode.to_csv('ingred_recode/asa_recode.csv')"
   ]
  },
  {
   "cell_type": "code",
   "execution_count": 12,
   "id": "984693c6",
   "metadata": {},
   "outputs": [],
   "source": [
    "asa_code_remap = asa_recode[asa_recode.Ingred_code > 10000000] # get only 8-digit foodcodes"
   ]
  },
  {
   "cell_type": "code",
   "execution_count": 13,
   "id": "eec9687e",
   "metadata": {},
   "outputs": [],
   "source": [
    "asa_code_remap_unique = asa_code_remap.drop_duplicates(subset = 'Ingred_code')"
   ]
  },
  {
   "cell_type": "markdown",
   "id": "3c937927",
   "metadata": {},
   "source": [
    "### Following code is to iterate through the ingredient codes that contain an 8-digit foodcode and merge with the parent foodcode to find embedded ingredient codes, some ingredient codes require mapping iterations"
   ]
  },
  {
   "cell_type": "code",
   "execution_count": 15,
   "id": "23b95eb6",
   "metadata": {},
   "outputs": [],
   "source": [
    "asa_code_remap_unique.to_csv('ingred_recode/unique_codes_to_map_102021.csv')"
   ]
  },
  {
   "cell_type": "code",
   "execution_count": 16,
   "id": "1fb07001",
   "metadata": {},
   "outputs": [],
   "source": [
    "asa_recode.rename(columns={'Ingred_code':'Ingredient_subcode'}, inplace=True)"
   ]
  },
  {
   "cell_type": "code",
   "execution_count": 17,
   "id": "cf63ded8",
   "metadata": {},
   "outputs": [],
   "source": [
    "fndds.rename(columns={'Ingredient code':'Ingredient_subcode'}, inplace=True)"
   ]
  },
  {
   "cell_type": "code",
   "execution_count": 18,
   "id": "1a0ccd95",
   "metadata": {},
   "outputs": [],
   "source": [
    "asa_recode2 = pd.merge(asa_recode, fndds, on='Ingredient_subcode')"
   ]
  },
  {
   "cell_type": "code",
   "execution_count": 19,
   "id": "5376fc63",
   "metadata": {},
   "outputs": [],
   "source": [
    "asa_recode2.to_csv('ingred_recode/asa_recode2.csv')"
   ]
  },
  {
   "cell_type": "code",
   "execution_count": 20,
   "id": "a8b7a90f",
   "metadata": {
    "scrolled": true
   },
   "outputs": [],
   "source": [
    "asa_recode2.rename(columns={'Ingred_code':'Ingredient_subcode2'}, inplace=True)"
   ]
  },
  {
   "cell_type": "code",
   "execution_count": 21,
   "id": "1477b3a5",
   "metadata": {},
   "outputs": [],
   "source": [
    "fndds.rename(columns={'Ingredient_subcode':'Ingredient_subcode2'}, inplace=True)"
   ]
  },
  {
   "cell_type": "code",
   "execution_count": 22,
   "id": "4f731fab",
   "metadata": {},
   "outputs": [],
   "source": [
    "asa_recode3 = pd.merge(asa_recode2, fndds, on='Ingredient_subcode2')"
   ]
  },
  {
   "cell_type": "code",
   "execution_count": 23,
   "id": "62ef2afd",
   "metadata": {
    "scrolled": true
   },
   "outputs": [],
   "source": [
    "asa_recode3.to_csv('ingred_recode/asa_recode3.csv')"
   ]
  },
  {
   "cell_type": "code",
   "execution_count": 24,
   "id": "ff06db13",
   "metadata": {},
   "outputs": [],
   "source": [
    "asa_recode3.rename(columns={'Ingred_code':'Ingredient_subcode3'}, inplace=True)"
   ]
  },
  {
   "cell_type": "code",
   "execution_count": 25,
   "id": "d52e5a2c",
   "metadata": {},
   "outputs": [],
   "source": [
    "fndds.rename(columns={'Ingredient_subcode2':'Ingredient_subcode3'}, inplace=True)"
   ]
  },
  {
   "cell_type": "code",
   "execution_count": 26,
   "id": "79ea8448",
   "metadata": {},
   "outputs": [],
   "source": [
    "asa_recode4 = pd.merge(asa_recode3, fndds, on='Ingredient_subcode3')"
   ]
  },
  {
   "cell_type": "code",
   "execution_count": 27,
   "id": "298fb466",
   "metadata": {},
   "outputs": [],
   "source": [
    "asa_recode4.to_csv('ingred_recode/asa_recode4.csv')"
   ]
  },
  {
   "cell_type": "code",
   "execution_count": 28,
   "id": "44bb8566",
   "metadata": {},
   "outputs": [],
   "source": [
    "asa_recode4.rename(columns={'Ingred_code':'Ingredient_subcode4'}, inplace=True)"
   ]
  },
  {
   "cell_type": "code",
   "execution_count": 29,
   "id": "4939dcd4",
   "metadata": {},
   "outputs": [],
   "source": [
    "fndds.rename(columns={'Ingredient_subcode3':'Ingredient_subcode4'}, inplace=True)"
   ]
  },
  {
   "cell_type": "code",
   "execution_count": 30,
   "id": "329806d7",
   "metadata": {},
   "outputs": [],
   "source": [
    "asa_recode5 = pd.merge(asa_recode4, fndds, on='Ingredient_subcode4')"
   ]
  },
  {
   "cell_type": "code",
   "execution_count": 31,
   "id": "018a4e34",
   "metadata": {},
   "outputs": [],
   "source": [
    "asa_recode5.to_csv('ingred_recode/asa_recode5.csv')"
   ]
  },
  {
   "cell_type": "code",
   "execution_count": 32,
   "id": "19901fc6",
   "metadata": {},
   "outputs": [],
   "source": [
    "asa_recode5.rename(columns={'Ingred_code':'Ingredient_subcode5'}, inplace=True)"
   ]
  },
  {
   "cell_type": "code",
   "execution_count": 33,
   "id": "4e4a447f",
   "metadata": {},
   "outputs": [],
   "source": [
    "fndds.rename(columns={'Ingredient_subcode4':'Ingredient_subcode5'}, inplace=True)"
   ]
  },
  {
   "cell_type": "code",
   "execution_count": 34,
   "id": "52af96e0",
   "metadata": {},
   "outputs": [],
   "source": [
    "asa_recode6 = pd.merge(asa_recode5, fndds, on='Ingredient_subcode5')"
   ]
  },
  {
   "cell_type": "code",
   "execution_count": 35,
   "id": "7e55fca8",
   "metadata": {
    "scrolled": true
   },
   "outputs": [],
   "source": [
    "asa_recode6.to_csv('ingred_recode/asa_recode6.csv')"
   ]
  },
  {
   "cell_type": "code",
   "execution_count": 36,
   "id": "0ec7c7b0",
   "metadata": {},
   "outputs": [],
   "source": [
    "# All csv files combined manually to create the final mappings: ingred_code_remapped_102021.csv"
   ]
  }
 ],
 "metadata": {
  "kernelspec": {
   "display_name": "Python 3",
   "language": "python",
   "name": "python3"
  },
  "language_info": {
   "codemirror_mode": {
    "name": "ipython",
    "version": 3
   },
   "file_extension": ".py",
   "mimetype": "text/x-python",
   "name": "python",
   "nbconvert_exporter": "python",
   "pygments_lexer": "ipython3",
   "version": "3.8.8"
  }
 },
 "nbformat": 4,
 "nbformat_minor": 5
}
