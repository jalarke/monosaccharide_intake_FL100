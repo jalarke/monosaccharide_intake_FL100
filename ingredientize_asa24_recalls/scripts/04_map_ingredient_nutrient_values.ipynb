{
 "cells": [
  {
   "cell_type": "markdown",
   "id": "2de62558",
   "metadata": {},
   "source": [
    "# Map fiber content in ASA24 foods from FNDDS 2018"
   ]
  },
  {
   "cell_type": "code",
   "execution_count": 1,
   "id": "1af5e7b3",
   "metadata": {},
   "outputs": [],
   "source": [
    "import numpy as np\n",
    "import pandas as pd"
   ]
  },
  {
   "cell_type": "code",
   "execution_count": 3,
   "id": "8b1889a6",
   "metadata": {
    "scrolled": true
   },
   "outputs": [
    {
     "data": {
      "text/plain": [
       "array(['Protein', 'Total Fat', 'Carbohydrate', 'Energy', 'Alcohol',\n",
       "       'Water', 'Caffeine', 'Theobromine', 'Sugars, total',\n",
       "       'Fiber, total dietary', 'Calcium', 'Iron', 'Magnesium',\n",
       "       'Phosphorus', 'Potassium', 'Sodium', 'Zinc', 'Copper', 'Selenium',\n",
       "       'Retinol', 'Vitamin A, RAE', 'Carotene, beta', 'Carotene, alpha',\n",
       "       'Vitamin E (alpha-tocopherol)', 'Vitamin D (D2 + D3)',\n",
       "       'Cryptoxanthin, beta', 'Lycopene', 'Lutein + zeaxanthin',\n",
       "       'Vitamin C', 'Thiamin', 'Riboflavin', 'Niacin', 'Vitamin B-6',\n",
       "       'Folate, total', 'Vitamin B-12', 'Choline, total',\n",
       "       'Vitamin K (phylloquinone)', 'Folic acid', 'Folate, food',\n",
       "       'Folate, DFE', 'Vitamin E, added', 'Vitamin B-12, added',\n",
       "       'Cholesterol', 'Fatty acids, total saturated', '4:0', '6:0', '8:0',\n",
       "       '10:0', '12:0', '14:0', '16:0', '18:0', '18:1', '18:2', '18:3',\n",
       "       '20:4', '22:6 n-3', '16:1', '18:4', '20:1', '20:5 n-3', '22:1',\n",
       "       '22:5 n-3', 'Fatty acids, total monounsaturated',\n",
       "       'Fatty acids, total polyunsaturated'], dtype=object)"
      ]
     },
     "execution_count": 3,
     "metadata": {},
     "output_type": "execute_result"
    }
   ],
   "source": [
    "# Load data from FNDDS ingredients containing carobhydrate values\n",
    "nutrient_values = pd.read_csv('fndds_2018_ingredient_carbohydrate_values.csv')\n",
    "nutrient_values['Nutrient description'].unique()"
   ]
  },
  {
   "cell_type": "markdown",
   "id": "3c261bb2",
   "metadata": {},
   "source": [
    "## Extract nutrients of interest for ingredients in diet recalls"
   ]
  },
  {
   "cell_type": "code",
   "execution_count": 4,
   "id": "90c07090",
   "metadata": {},
   "outputs": [],
   "source": [
    "fiber = nutrient_values[nutrient_values['Nutrient description'] == 'Fiber, total dietary']\n",
    "fiber = fiber.rename(columns={'Nutrient value':'Fiber (g)'})\n",
    "fiber = fiber.drop(columns=['Ingredient description', 'Nutrient code', 'Nutrient description'])\n",
    "fiber = fiber.reset_index()"
   ]
  },
  {
   "cell_type": "code",
   "execution_count": 5,
   "id": "a2f44d92",
   "metadata": {},
   "outputs": [],
   "source": [
    "energy =  nutrient_values[nutrient_values['Nutrient description'] == 'Energy']\n",
    "energy = energy.rename(columns={'Nutrient value':'Energy (kcal)'})\n",
    "energy = energy.drop(columns=['Ingredient description', 'Nutrient code', 'Nutrient description'])\n",
    "energy = energy.reset_index()"
   ]
  },
  {
   "cell_type": "code",
   "execution_count": 6,
   "id": "89ad459a",
   "metadata": {},
   "outputs": [],
   "source": [
    "carbs = nutrient_values[nutrient_values['Nutrient description'] == 'Carbohydrate']\n",
    "carbs = carbs.rename(columns={'Nutrient value':'Carbohydrate (g)'})\n",
    "carbs = carbs.drop(columns=['Ingredient description', 'Nutrient code', 'Nutrient description'])\n",
    "carbs = carbs.reset_index()"
   ]
  },
  {
   "cell_type": "code",
   "execution_count": 7,
   "id": "2e1d5df8",
   "metadata": {},
   "outputs": [],
   "source": [
    "nutrients = pd.concat([fiber, carbs['Carbohydrate (g)'], energy['Energy (kcal)']], axis = 1)"
   ]
  },
  {
   "cell_type": "code",
   "execution_count": 8,
   "id": "5d2f94ac",
   "metadata": {},
   "outputs": [
    {
     "data": {
      "text/html": [
       "<div>\n",
       "<style scoped>\n",
       "    .dataframe tbody tr th:only-of-type {\n",
       "        vertical-align: middle;\n",
       "    }\n",
       "\n",
       "    .dataframe tbody tr th {\n",
       "        vertical-align: top;\n",
       "    }\n",
       "\n",
       "    .dataframe thead th {\n",
       "        text-align: right;\n",
       "    }\n",
       "</style>\n",
       "<table border=\"1\" class=\"dataframe\">\n",
       "  <thead>\n",
       "    <tr style=\"text-align: right;\">\n",
       "      <th></th>\n",
       "      <th>Ingredient code</th>\n",
       "      <th>Fiber (g)</th>\n",
       "      <th>Carbohydrate (g)</th>\n",
       "      <th>Energy (kcal)</th>\n",
       "    </tr>\n",
       "  </thead>\n",
       "  <tbody>\n",
       "    <tr>\n",
       "      <th>0</th>\n",
       "      <td>1001</td>\n",
       "      <td>0.0</td>\n",
       "      <td>0.06</td>\n",
       "      <td>717.0</td>\n",
       "    </tr>\n",
       "    <tr>\n",
       "      <th>1</th>\n",
       "      <td>1002</td>\n",
       "      <td>0.0</td>\n",
       "      <td>0.00</td>\n",
       "      <td>731.0</td>\n",
       "    </tr>\n",
       "    <tr>\n",
       "      <th>2</th>\n",
       "      <td>1003</td>\n",
       "      <td>0.0</td>\n",
       "      <td>0.00</td>\n",
       "      <td>876.0</td>\n",
       "    </tr>\n",
       "    <tr>\n",
       "      <th>3</th>\n",
       "      <td>1004</td>\n",
       "      <td>0.0</td>\n",
       "      <td>2.34</td>\n",
       "      <td>353.0</td>\n",
       "    </tr>\n",
       "    <tr>\n",
       "      <th>4</th>\n",
       "      <td>1005</td>\n",
       "      <td>0.0</td>\n",
       "      <td>2.79</td>\n",
       "      <td>371.0</td>\n",
       "    </tr>\n",
       "    <tr>\n",
       "      <th>...</th>\n",
       "      <td>...</td>\n",
       "      <td>...</td>\n",
       "      <td>...</td>\n",
       "      <td>...</td>\n",
       "    </tr>\n",
       "    <tr>\n",
       "      <th>2327</th>\n",
       "      <td>907081</td>\n",
       "      <td>0.0</td>\n",
       "      <td>2.20</td>\n",
       "      <td>106.0</td>\n",
       "    </tr>\n",
       "    <tr>\n",
       "      <th>2328</th>\n",
       "      <td>907961</td>\n",
       "      <td>0.0</td>\n",
       "      <td>2.92</td>\n",
       "      <td>98.0</td>\n",
       "    </tr>\n",
       "    <tr>\n",
       "      <th>2329</th>\n",
       "      <td>907971</td>\n",
       "      <td>0.0</td>\n",
       "      <td>6.31</td>\n",
       "      <td>281.0</td>\n",
       "    </tr>\n",
       "    <tr>\n",
       "      <th>2330</th>\n",
       "      <td>912695</td>\n",
       "      <td>10.3</td>\n",
       "      <td>18.82</td>\n",
       "      <td>614.0</td>\n",
       "    </tr>\n",
       "    <tr>\n",
       "      <th>2331</th>\n",
       "      <td>999328</td>\n",
       "      <td>0.0</td>\n",
       "      <td>0.00</td>\n",
       "      <td>0.0</td>\n",
       "    </tr>\n",
       "  </tbody>\n",
       "</table>\n",
       "<p>2332 rows × 4 columns</p>\n",
       "</div>"
      ],
      "text/plain": [
       "      Ingredient code  Fiber (g)  Carbohydrate (g)  Energy (kcal)\n",
       "0                1001        0.0              0.06          717.0\n",
       "1                1002        0.0              0.00          731.0\n",
       "2                1003        0.0              0.00          876.0\n",
       "3                1004        0.0              2.34          353.0\n",
       "4                1005        0.0              2.79          371.0\n",
       "...               ...        ...               ...            ...\n",
       "2327           907081        0.0              2.20          106.0\n",
       "2328           907961        0.0              2.92           98.0\n",
       "2329           907971        0.0              6.31          281.0\n",
       "2330           912695       10.3             18.82          614.0\n",
       "2331           999328        0.0              0.00            0.0\n",
       "\n",
       "[2332 rows x 4 columns]"
      ]
     },
     "execution_count": 8,
     "metadata": {},
     "output_type": "execute_result"
    }
   ],
   "source": [
    "nutrients = nutrients.drop(columns='index')\n",
    "nutrients"
   ]
  },
  {
   "cell_type": "code",
   "execution_count": 9,
   "id": "91e7d1a8",
   "metadata": {},
   "outputs": [],
   "source": [
    "# Load data for ingredientized ASA24\n",
    "asa24 = pd.read_csv('asa_fndds_matched_120721.csv')"
   ]
  },
  {
   "cell_type": "code",
   "execution_count": 10,
   "id": "d245c067",
   "metadata": {},
   "outputs": [],
   "source": [
    "asa24 = asa24[asa24['Food_Description'].notna()]"
   ]
  },
  {
   "cell_type": "code",
   "execution_count": 11,
   "id": "46dc8d40",
   "metadata": {},
   "outputs": [],
   "source": [
    "asa24['uniqueID'] = asa24['UserName'].astype(str) + asa24['FoodCode'].astype(str) + asa24['Ingredient code'].astype(str) + asa24['RecallNo'].astype(str) + asa24['FoodNum'].astype(str) + asa24['CodeNum'].astype(str) + asa24['Occ_No'].astype(str) + asa24['FoodAmt'].astype(str) + asa24['Seq num'].astype(str)"
   ]
  },
  {
   "cell_type": "code",
   "execution_count": 12,
   "id": "1aad6557",
   "metadata": {
    "scrolled": false
   },
   "outputs": [
    {
     "data": {
      "text/plain": [
       "(34788, 113)"
      ]
     },
     "execution_count": 12,
     "metadata": {},
     "output_type": "execute_result"
    }
   ],
   "source": [
    "asa24 = asa24[asa24['uniqueID'].notna()]\n",
    "asa24.shape"
   ]
  },
  {
   "cell_type": "code",
   "execution_count": 13,
   "id": "3a6753db",
   "metadata": {},
   "outputs": [],
   "source": [
    "# Load remapped food_ingredient code data\n",
    "code_remap = pd.read_csv('ingred_code_remapped_102021.csv')"
   ]
  },
  {
   "cell_type": "code",
   "execution_count": 15,
   "id": "61c765b6",
   "metadata": {},
   "outputs": [],
   "source": [
    "# Drop columns to better view data\n",
    "cols = ['UserName',\n",
    "        'uniqueID',\n",
    " 'FoodCode',\n",
    " 'Food_Description',\n",
    " 'fndds_description',\n",
    " 'WWEIA Category number',\n",
    " 'WWEIA Category description',\n",
    " 'RecallNo',\n",
    " 'FoodAmt',                \n",
    " 'FoodNum',\n",
    " 'Ingredient code',\n",
    " 'Ingredient description',\n",
    " 'Ingredient weight (g)']\n",
    "asa24 = asa24[cols]"
   ]
  },
  {
   "cell_type": "code",
   "execution_count": 16,
   "id": "829b54ce",
   "metadata": {},
   "outputs": [],
   "source": [
    "asa_recode = pd.merge(asa24, code_remap, how='outer', on='Ingredient code')"
   ]
  },
  {
   "cell_type": "code",
   "execution_count": 18,
   "id": "a25f6543",
   "metadata": {
    "scrolled": true
   },
   "outputs": [],
   "source": [
    "asa_recode = asa_recode[asa_recode['Ingredient code'].isin(code_remap['Ingredient code']) ==True]"
   ]
  },
  {
   "cell_type": "code",
   "execution_count": 19,
   "id": "4a9c7890",
   "metadata": {},
   "outputs": [],
   "source": [
    "asa_recode = asa_recode.drop(columns=['Ingredient code', 'Ingredient description', 'Ingredient weight (g)', 'Ingredient description_x', 'Ingredient weight (g)_x'])"
   ]
  },
  {
   "cell_type": "code",
   "execution_count": 20,
   "id": "a64263b3",
   "metadata": {},
   "outputs": [],
   "source": [
    "asa_recode = asa_recode.rename(columns={'Ingredient_subcode':'Ingredient code', 'Ingredient description_y': 'Ingredient description', 'Ingredient weight (g)_y': 'Ingredient weight (g)'})"
   ]
  },
  {
   "cell_type": "code",
   "execution_count": 21,
   "id": "d6c33e22",
   "metadata": {},
   "outputs": [],
   "source": [
    "asa24 = asa24[asa24['Ingredient code'] < 10000000]"
   ]
  },
  {
   "cell_type": "code",
   "execution_count": 22,
   "id": "c37319e6",
   "metadata": {},
   "outputs": [],
   "source": [
    "asa24_all = pd.concat([asa24, asa_recode])"
   ]
  },
  {
   "cell_type": "code",
   "execution_count": 23,
   "id": "066d3718",
   "metadata": {
    "scrolled": true
   },
   "outputs": [
    {
     "data": {
      "text/plain": [
       "(45739, 13)"
      ]
     },
     "execution_count": 23,
     "metadata": {},
     "output_type": "execute_result"
    }
   ],
   "source": [
    "asa24_all.shape"
   ]
  },
  {
   "cell_type": "code",
   "execution_count": 24,
   "id": "4b29f92a",
   "metadata": {},
   "outputs": [],
   "source": [
    "asa_nutrients = pd.merge(asa24_all, nutrients, how='inner', on='Ingredient code')"
   ]
  },
  {
   "cell_type": "code",
   "execution_count": 25,
   "id": "8c960ad2",
   "metadata": {
    "scrolled": true
   },
   "outputs": [
    {
     "data": {
      "text/plain": [
       "(45739, 16)"
      ]
     },
     "execution_count": 25,
     "metadata": {},
     "output_type": "execute_result"
    }
   ],
   "source": [
    "asa_nutrients.shape"
   ]
  },
  {
   "cell_type": "code",
   "execution_count": 26,
   "id": "f7817c9f",
   "metadata": {},
   "outputs": [],
   "source": [
    "ingred_sum = asa_nutrients.groupby(['UserName', 'FoodCode','uniqueID', 'Food_Description', 'Ingredient code', 'WWEIA Category number', 'WWEIA Category description', 'Ingredient description', 'FoodAmt', 'FoodNum','RecallNo', 'Fiber (g)', 'Carbohydrate (g)', 'Energy (kcal)'], dropna=True)['Ingredient weight (g)'].agg(np.sum)"
   ]
  },
  {
   "cell_type": "code",
   "execution_count": 27,
   "id": "53b07b2a",
   "metadata": {},
   "outputs": [],
   "source": [
    "ingred_df = ingred_sum.reset_index()"
   ]
  },
  {
   "cell_type": "code",
   "execution_count": 29,
   "id": "ef3d45a3",
   "metadata": {},
   "outputs": [
    {
     "data": {
      "text/plain": [
       "1199"
      ]
     },
     "execution_count": 29,
     "metadata": {},
     "output_type": "execute_result"
    }
   ],
   "source": [
    "ingred_df['Ingredient code'].nunique()"
   ]
  },
  {
   "cell_type": "code",
   "execution_count": 30,
   "id": "107af743",
   "metadata": {
    "scrolled": true
   },
   "outputs": [],
   "source": [
    "ingred_wts = ingred_sum.groupby(level=['UserName', 'FoodCode', 'FoodNum', 'RecallNo']).transform(np.sum)"
   ]
  },
  {
   "cell_type": "code",
   "execution_count": 31,
   "id": "cda92a38",
   "metadata": {},
   "outputs": [],
   "source": [
    "ingred_wt = ingred_wts.to_frame()"
   ]
  },
  {
   "cell_type": "code",
   "execution_count": 32,
   "id": "26c0e792",
   "metadata": {},
   "outputs": [],
   "source": [
    "ingred_wt.rename(columns={'Ingredient weight (g)': 'ingredient_weight_total'}, inplace=True)"
   ]
  },
  {
   "cell_type": "code",
   "execution_count": 33,
   "id": "efc58c12",
   "metadata": {},
   "outputs": [],
   "source": [
    "ingred_sum = ingred_sum.to_frame()"
   ]
  },
  {
   "cell_type": "code",
   "execution_count": 35,
   "id": "dfdfcb96",
   "metadata": {},
   "outputs": [],
   "source": [
    "ingred_wt['Ingredient weight (g)'] = ingred_sum['Ingredient weight (g)']"
   ]
  },
  {
   "cell_type": "code",
   "execution_count": 36,
   "id": "12736b40",
   "metadata": {},
   "outputs": [],
   "source": [
    "ingred_wt = ingred_wt.reset_index()"
   ]
  },
  {
   "cell_type": "code",
   "execution_count": 38,
   "id": "d070342e",
   "metadata": {},
   "outputs": [],
   "source": [
    "ingred_wt['Proportion of ingredient'] = ingred_wt['Ingredient weight (g)'] / ingred_wt['ingredient_weight_total']"
   ]
  },
  {
   "cell_type": "code",
   "execution_count": 39,
   "id": "f14eb89b",
   "metadata": {},
   "outputs": [],
   "source": [
    "ingred_wt['ingredient_consumed_g'] = ingred_wt['Proportion of ingredient'] * ingred_wt['FoodAmt']"
   ]
  },
  {
   "cell_type": "code",
   "execution_count": 40,
   "id": "e1bc1d67",
   "metadata": {},
   "outputs": [],
   "source": [
    "ingred_wt['fiber_consumed_g'] = ingred_wt['ingredient_consumed_g'] * (ingred_wt['Fiber (g)']/100)"
   ]
  },
  {
   "cell_type": "code",
   "execution_count": 41,
   "id": "f6c6e2bd",
   "metadata": {},
   "outputs": [],
   "source": [
    "ingred_wt['carb_consumed_g'] = ingred_wt['ingredient_consumed_g'] * (ingred_wt['Carbohydrate (g)']/100)"
   ]
  },
  {
   "cell_type": "code",
   "execution_count": 42,
   "id": "61e845d1",
   "metadata": {},
   "outputs": [],
   "source": [
    "ingred_wt['cal_consumed'] = ingred_wt['ingredient_consumed_g'] * (ingred_wt['Energy (kcal)']/100)"
   ]
  },
  {
   "cell_type": "code",
   "execution_count": 43,
   "id": "62d2e0a1",
   "metadata": {
    "scrolled": true
   },
   "outputs": [],
   "source": [
    "ingred_wt['cal_from_carb'] = ingred_wt['carb_consumed_g']*4"
   ]
  },
  {
   "cell_type": "code",
   "execution_count": 44,
   "id": "767cec68",
   "metadata": {},
   "outputs": [],
   "source": [
    "ingred_wt.to_csv('ingredient_fiber_carb_weights_nndc_120721.csv')"
   ]
  },
  {
   "cell_type": "code",
   "execution_count": null,
   "id": "7b003d2d",
   "metadata": {},
   "outputs": [],
   "source": [
    "# Cells below used for determining the frequency of foods consumed in the cohort. Not used for this project."
   ]
  },
  {
   "cell_type": "code",
   "execution_count": 45,
   "id": "23394f37",
   "metadata": {},
   "outputs": [],
   "source": [
    "ingred_freq = ingred_wt.groupby('Ingredient description')['Ingredient description'].count()"
   ]
  },
  {
   "cell_type": "code",
   "execution_count": 46,
   "id": "d7fd9b12",
   "metadata": {},
   "outputs": [],
   "source": [
    "ingred_freq = ingred_freq.sort_values(ascending=False).to_frame()"
   ]
  },
  {
   "cell_type": "code",
   "execution_count": 47,
   "id": "e260646c",
   "metadata": {},
   "outputs": [],
   "source": [
    "ingred_freq.rename(columns={'Ingredient description': 'frequency'}).to_csv('ingredient_frequency_nndc_120721.csv')"
   ]
  }
 ],
 "metadata": {
  "kernelspec": {
   "display_name": "Python 3",
   "language": "python",
   "name": "python3"
  },
  "language_info": {
   "codemirror_mode": {
    "name": "ipython",
    "version": 3
   },
   "file_extension": ".py",
   "mimetype": "text/x-python",
   "name": "python",
   "nbconvert_exporter": "python",
   "pygments_lexer": "ipython3",
   "version": "3.8.8"
  }
 },
 "nbformat": 4,
 "nbformat_minor": 5
}
