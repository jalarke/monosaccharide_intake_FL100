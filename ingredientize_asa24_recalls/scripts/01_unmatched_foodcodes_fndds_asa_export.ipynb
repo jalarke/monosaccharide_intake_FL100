{
 "cells": [
  {
   "cell_type": "markdown",
   "id": "5accce21",
   "metadata": {},
   "source": [
    "## Ingredientize ASA24 food records using FNDDS ingredients"
   ]
  },
  {
   "cell_type": "code",
   "execution_count": 1,
   "id": "be681cd2",
   "metadata": {},
   "outputs": [],
   "source": [
    "#import packages\n",
    "import numpy as np\n",
    "import pandas as pd"
   ]
  },
  {
   "cell_type": "code",
   "execution_count": 2,
   "id": "7deb280d",
   "metadata": {},
   "outputs": [],
   "source": [
    "#Load data\n",
    "fndds = pd.read_csv('fndds2018.csv')\n",
    "asa24 = pd.read_csv('fl100_recalls_qcd.csv')"
   ]
  },
  {
   "cell_type": "code",
   "execution_count": 3,
   "id": "b10a35d1",
   "metadata": {},
   "outputs": [],
   "source": [
    "#Select columns: dropping WWEIA cols\n",
    "fndds.drop(columns=['WWEIA Category number', 'WWEIA Category description'], inplace=True)\n",
    "\n",
    "#Rename column 'Food code' to 'FoodCode' for merging with ASA data\n",
    "fndds.columns=['FoodCode',\n",
    "               'fndds_description',\n",
    "               'Seq num',\n",
    "               'Ingredient code',\n",
    "               'Ingredient description',\n",
    "               'Ingredient weight (g)',\n",
    "               'Retention code',\n",
    "               'Moisture change (%)']"
   ]
  },
  {
   "cell_type": "code",
   "execution_count": 4,
   "id": "b0a28e4a",
   "metadata": {},
   "outputs": [],
   "source": [
    "# Remove foodcodes that did were not presetnt in ASA24 recalls\n",
    "asa24 = asa24[asa24['FoodCode'] != 9]"
   ]
  },
  {
   "cell_type": "code",
   "execution_count": 5,
   "id": "34ad9f9e",
   "metadata": {
    "scrolled": true
   },
   "outputs": [],
   "source": [
    "# Rename column to distinguish ASA food description from FNDDS food description before merging datasets\n",
    "asa24.rename(columns={'Food_Description': 'asa_description'}, inplace=True)"
   ]
  },
  {
   "cell_type": "code",
   "execution_count": 6,
   "id": "19786a6b",
   "metadata": {},
   "outputs": [],
   "source": [
    "# Merge ASA/FNDDS datasets to ingredientize the ASA24 food records. \n",
    "# This will create an ingredient for each mixed food from foodcodes\n",
    "asa_fndds = pd.merge(asa24, fndds, on='FoodCode')"
   ]
  },
  {
   "cell_type": "code",
   "execution_count": 8,
   "id": "3123940e",
   "metadata": {},
   "outputs": [],
   "source": [
    "#Rearrange columns of interest\n",
    "cols_to_order = ['UserName',\n",
    " 'FoodCode',\n",
    " 'asa_description',\n",
    " 'fndds_description',\n",
    " 'Seq num',\n",
    " 'Ingredient code',\n",
    " 'Ingredient description']\n",
    "new_columns = cols_to_order + (asa_fndds.columns.drop(cols_to_order).tolist())\n",
    "asa_fndds = asa_fndds[new_columns]"
   ]
  },
  {
   "cell_type": "code",
   "execution_count": 9,
   "id": "5b44b151",
   "metadata": {
    "scrolled": false
   },
   "outputs": [],
   "source": [
    "asa_set = set(asa24['asa_description'].unique())\n",
    "asa_fndds_set = set(asa_fndds['asa_description'].unique())"
   ]
  },
  {
   "cell_type": "code",
   "execution_count": 10,
   "id": "6d6bcf75",
   "metadata": {},
   "outputs": [
    {
     "name": "stdout",
     "output_type": "stream",
     "text": [
      "483 foodcodes not mapping from ASA24 to FNDDS2018\n"
     ]
    }
   ],
   "source": [
    "food_desc_diff = asa_set.difference(asa_fndds_set)\n",
    "print(len(food_desc_diff), 'foodcodes not mapping from ASA24 to FNDDS2018')"
   ]
  },
  {
   "cell_type": "code",
   "execution_count": 11,
   "id": "f884e8f6",
   "metadata": {},
   "outputs": [],
   "source": [
    "food_desc_diff = pd.DataFrame(food_desc_diff)\n",
    "food_desc_diff.columns = ['missing_food_descriptions']"
   ]
  },
  {
   "cell_type": "code",
   "execution_count": 12,
   "id": "ee9544e3",
   "metadata": {},
   "outputs": [],
   "source": [
    "food_list = food_desc_diff['missing_food_descriptions'].tolist()"
   ]
  },
  {
   "cell_type": "code",
   "execution_count": 13,
   "id": "c3a77ebd",
   "metadata": {
    "scrolled": true
   },
   "outputs": [],
   "source": [
    "missing_foods = asa24['asa_description'].isin(food_list)\n",
    "fndds_missing = asa24[missing_foods]\n",
    "fndds_missing = fndds_missing.drop_duplicates(subset = ['asa_description'])"
   ]
  },
  {
   "cell_type": "code",
   "execution_count": 17,
   "id": "01ae3ece",
   "metadata": {},
   "outputs": [],
   "source": [
    "fndds_missing_foods = fndds_missing[['FoodCode', 'asa_description']]\n",
    "fndds_missing_foods.to_csv('fndds_missing_foods.csv', index=None, header=True)"
   ]
  }
 ],
 "metadata": {
  "kernelspec": {
   "display_name": "Python 3",
   "language": "python",
   "name": "python3"
  },
  "language_info": {
   "codemirror_mode": {
    "name": "ipython",
    "version": 3
   },
   "file_extension": ".py",
   "mimetype": "text/x-python",
   "name": "python",
   "nbconvert_exporter": "python",
   "pygments_lexer": "ipython3",
   "version": "3.8.8"
  }
 },
 "nbformat": 4,
 "nbformat_minor": 5
}
